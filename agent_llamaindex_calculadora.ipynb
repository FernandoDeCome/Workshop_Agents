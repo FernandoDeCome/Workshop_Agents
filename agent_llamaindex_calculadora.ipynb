{
 "cells": [
  {
   "cell_type": "markdown",
   "id": "9a2050ca-7692-470e-adf5-a8ebc7b84007",
   "metadata": {
    "tags": []
   },
   "source": [
    "### OCI Data Science - Useful Tips\n",
    "<details>\n",
    "<summary><font size=\"2\">Check for Public Internet Access</font></summary>\n",
    "\n",
    "```python\n",
    "import requests\n",
    "response = requests.get(\"https://oracle.com\")\n",
    "assert response.status_code==200, \"Internet connection failed\"\n",
    "```\n",
    "</details>\n",
    "<details>\n",
    "<summary><font size=\"2\">Helpful Documentation </font></summary>\n",
    "<ul><li><a href=\"https://docs.cloud.oracle.com/en-us/iaas/data-science/using/data-science.htm\">Data Science Service Documentation</a></li>\n",
    "<li><a href=\"https://docs.cloud.oracle.com/iaas/tools/ads-sdk/latest/index.html\">ADS documentation</a></li>\n",
    "</ul>\n",
    "</details>\n",
    "<details>\n",
    "<summary><font size=\"2\">Typical Cell Imports and Settings for ADS</font></summary>\n",
    "\n",
    "```python\n",
    "%load_ext autoreload\n",
    "%autoreload 2\n",
    "%matplotlib inline\n",
    "\n",
    "import warnings\n",
    "warnings.filterwarnings('ignore')\n",
    "\n",
    "import logging\n",
    "logging.basicConfig(format='%(levelname)s:%(message)s', level=logging.ERROR)\n",
    "\n",
    "import ads\n",
    "from ads.dataset.factory import DatasetFactory\n",
    "from ads.automl.provider import OracleAutoMLProvider\n",
    "from ads.automl.driver import AutoML\n",
    "from ads.evaluations.evaluator import ADSEvaluator\n",
    "from ads.common.data import ADSData\n",
    "from ads.explanations.explainer import ADSExplainer\n",
    "from ads.explanations.mlx_global_explainer import MLXGlobalExplainer\n",
    "from ads.explanations.mlx_local_explainer import MLXLocalExplainer\n",
    "from ads.catalog.model import ModelCatalog\n",
    "from ads.common.model_artifact import ModelArtifact\n",
    "```\n",
    "</details>\n",
    "<details>\n",
    "<summary><font size=\"2\">Useful Environment Variables</font></summary>\n",
    "\n",
    "```python\n",
    "import os\n",
    "print(os.environ[\"NB_SESSION_COMPARTMENT_OCID\"])\n",
    "print(os.environ[\"PROJECT_OCID\"])\n",
    "print(os.environ[\"USER_OCID\"])\n",
    "print(os.environ[\"TENANCY_OCID\"])\n",
    "print(os.environ[\"NB_REGION\"])\n",
    "```\n",
    "</details>"
   ]
  },
  {
   "cell_type": "markdown",
   "id": "9afc8103-37c6-49ca-b250-9bd1a6075170",
   "metadata": {},
   "source": [
    "# Importando as bibliotecas"
   ]
  },
  {
   "cell_type": "code",
   "execution_count": null,
   "id": "ca4d69df-edce-4b13-839f-9ba60cdbd58c",
   "metadata": {},
   "outputs": [],
   "source": [
    "import os\n",
    "from llama_index.llms.oci_genai import OCIGenAI\n",
    "from llama_index.core.agent import ReActAgent #Framework to work with agents - they use a lot of intermediate prompts\n",
    "from llama_index.core.tools import FunctionTool\n",
    "from llama_index.core.llms import ChatMessage"
   ]
  },
  {
   "cell_type": "markdown",
   "id": "0c42370a-ea1f-4f37-8621-9e5f9cb057fe",
   "metadata": {},
   "source": [
    "# Acessando suas credenciais"
   ]
  },
  {
   "cell_type": "code",
   "execution_count": 2,
   "id": "8c45dc41-1fe1-43de-a7f2-096a10dafd50",
   "metadata": {
    "tags": []
   },
   "outputs": [],
   "source": [
    "compartment_id = os.environ[\"NB_SESSION_COMPARTMENT_OCID\"]"
   ]
  },
  {
   "cell_type": "markdown",
   "id": "cc4dab2c-132a-4050-b7cc-50b72464eadd",
   "metadata": {},
   "source": [
    "# Ferramentas que o agente irá utilizar"
   ]
  },
  {
   "cell_type": "code",
   "execution_count": 6,
   "id": "b618c1a7-5aff-417e-ad28-35f2d7634bf7",
   "metadata": {
    "tags": []
   },
   "outputs": [],
   "source": [
    "def add(inputs: str) -> int:\n",
    "    \"\"\"Add two numbers given as a comma-separated string.\"\"\"\n",
    "    a, b = map(int, inputs.split(\",\"))\n",
    "    return a + b\n",
    "\n",
    "def multiply(inputs: str) -> int:\n",
    "    \"\"\"Multiply two numbers given as a comma-separated string.\"\"\"\n",
    "    a, b = map(int, inputs.split(\",\"))\n",
    "    return a * b\n",
    "\n",
    "def square(inputs: str) -> int:\n",
    "    \"\"\"Calculates the square of a number.\"\"\"\n",
    "    a = int(inputs)\n",
    "    return a * a\n",
    "\n",
    "# Define the tools\n",
    "tools = [add, multiply, square]\n",
    "\n",
    "functions = []\n",
    "for tool in tools:\n",
    "    #FunctionTool integrate the functions as tools for the agent\n",
    "    functions.append(FunctionTool.from_defaults(tool)) "
   ]
  },
  {
   "cell_type": "markdown",
   "id": "70a8475a-21a8-413d-bd6b-cd23acbfd630",
   "metadata": {},
   "source": [
    "# Criando o objeto do modelo parametrizado"
   ]
  },
  {
   "cell_type": "code",
   "execution_count": 7,
   "id": "eca8c175-f073-4af1-8bc7-3630eb331a60",
   "metadata": {
    "tags": []
   },
   "outputs": [],
   "source": [
    "command_r_plus = \"ocid1.generativeaimodel.oc1.us-chicago-1.amaaaaaask7dceya7ozidbukxwtun4ocm4ngco2jukoaht5mygpgr6gq2lgq\"\n",
    "# Initialize LLM with OCI Generative AI\n",
    "llm = OCIGenAI(\n",
    "    model=command_r_plus,\n",
    "    service_endpoint=\"https://inference.generativeai.us-chicago-1.oci.oraclecloud.com\",\n",
    "    compartment_id=compartment_id,\n",
    "    provider=\"cohere\",\n",
    "    context_size=\"128000\",\n",
    "    temperature=0,\n",
    "    #max_tokens=2500\n",
    ")"
   ]
  },
  {
   "cell_type": "markdown",
   "id": "c0e4af59-f409-4f27-bd48-ba438816fbc6",
   "metadata": {},
   "source": [
    "# Criando o objeto do AI Agent"
   ]
  },
  {
   "cell_type": "code",
   "execution_count": 7,
   "id": "ad48c13b-df4f-4307-957d-e496845b525c",
   "metadata": {
    "tags": []
   },
   "outputs": [],
   "source": [
    "# Initialize ReAct agent with the add tool\n",
    "agent = ReActAgent.from_tools(functions, llm=llm, verbose=True)"
   ]
  },
  {
   "cell_type": "markdown",
   "id": "b92531ac-2ea0-45bc-a2be-3541447f4a36",
   "metadata": {},
   "source": [
    "# Executando o AI Agent"
   ]
  },
  {
   "cell_type": "code",
   "execution_count": 8,
   "id": "e0fdf084-2635-4271-bc09-a090e8734cca",
   "metadata": {
    "tags": []
   },
   "outputs": [
    {
     "name": "stdout",
     "output_type": "stream",
     "text": [
      "> Running step 2812d90d-1e12-4f50-bafe-49d2cdf256ac. Step input: \n",
      "\n",
      "Quanto é 1947279 multiplicado pelo quadrado de 19382912? Only make the calculations using the provided tools.\n",
      "\n",
      "\n",
      "\u001b[1;3;38;5;200mThought: The current language of the user is: Portuguese. I need to use a tool to help me answer the question.\n",
      "Action: square\n",
      "Action Input: {'inputs': '19382912'}\n",
      "\u001b[0m\u001b[1;3;34mObservation: 375697277599744\n",
      "\u001b[0m> Running step db21363b-cbd7-4307-993d-244518c1b081. Step input: None\n",
      "\u001b[1;3;38;5;200mThought: I need to use another tool to help me answer the question.\n",
      "Action: multiply\n",
      "Action Input: {'inputs': '1947279,375697277599744'}\n",
      "\u001b[0m\u001b[1;3;34mObservation: 731587419027151896576\n",
      "\u001b[0m> Running step 904145aa-3336-47d4-af34-c9750e897cac. Step input: None\n",
      "\u001b[1;3;38;5;200mThought: I can answer without using any more tools. I'll use the user's language to answer\n",
      "Answer: O resultado da multiplicação é **731587419027151896576**.\n",
      "\u001b[0mO resultado da multiplicação é **731587419027151896576**.\n"
     ]
    }
   ],
   "source": [
    "prompt =  \"\"\"\n",
    "\n",
    "Quanto é 1947279 multiplicado pelo quadrado de 19382912? Only make the calculations using the provided tools.\n",
    "\n",
    "\"\"\"\n",
    "\n",
    "result = agent.chat(prompt) #chat(str(messages))\n"
   ]
  },
  {
   "cell_type": "code",
   "execution_count": 9,
   "id": "5a5cfe29-5412-4e9d-af61-fd1c8e6f6364",
   "metadata": {
    "tags": []
   },
   "outputs": [
    {
     "data": {
      "text/plain": [
       "'O resultado da multiplicação é **731587419027151896576**.'"
      ]
     },
     "execution_count": 9,
     "metadata": {},
     "output_type": "execute_result"
    }
   ],
   "source": [
    "result.response"
   ]
  },
  {
   "cell_type": "code",
   "execution_count": 10,
   "id": "85c6ba21-1426-43ae-acbe-fa611abeb69e",
   "metadata": {
    "tags": []
   },
   "outputs": [
    {
     "data": {
      "text/plain": [
       "375697277599744"
      ]
     },
     "execution_count": 10,
     "metadata": {},
     "output_type": "execute_result"
    }
   ],
   "source": [
    "(19382912*19382912)"
   ]
  },
  {
   "cell_type": "code",
   "execution_count": 11,
   "id": "4a453b25-b476-4965-8048-c8b73016d65f",
   "metadata": {
    "tags": []
   },
   "outputs": [
    {
     "data": {
      "text/plain": [
       "731587419027151896576"
      ]
     },
     "execution_count": 11,
     "metadata": {},
     "output_type": "execute_result"
    }
   ],
   "source": [
    "1947279 *375697277599744"
   ]
  },
  {
   "cell_type": "code",
   "execution_count": null,
   "id": "dcbe2fae-e8ae-43d3-9daf-6f1a97d47bf0",
   "metadata": {},
   "outputs": [],
   "source": []
  }
 ],
 "metadata": {
  "kernelspec": {
   "display_name": "Python [conda env:automlx234_p310_cpu_x86_64_v1]",
   "language": "python",
   "name": "conda-env-automlx234_p310_cpu_x86_64_v1-py"
  },
  "language_info": {
   "codemirror_mode": {
    "name": "ipython",
    "version": 3
   },
   "file_extension": ".py",
   "mimetype": "text/x-python",
   "name": "python",
   "nbconvert_exporter": "python",
   "pygments_lexer": "ipython3",
   "version": "3.10.13"
  }
 },
 "nbformat": 4,
 "nbformat_minor": 5
}
