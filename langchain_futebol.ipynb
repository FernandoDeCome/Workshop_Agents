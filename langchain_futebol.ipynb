{
 "cells": [
  {
   "cell_type": "markdown",
   "id": "e5a0f2e5-2747-4cae-aa1d-a5514796d8ce",
   "metadata": {},
   "source": [
    "### OCI Data Science - Useful Tips\n",
    "<details>\n",
    "<summary><font size=\"2\">Check for Public Internet Access</font></summary>\n",
    "\n",
    "```python\n",
    "import requests\n",
    "response = requests.get(\"https://oracle.com\")\n",
    "assert response.status_code==200, \"Internet connection failed\"\n",
    "```\n",
    "</details>\n",
    "<details>\n",
    "<summary><font size=\"2\">Helpful Documentation </font></summary>\n",
    "<ul><li><a href=\"https://docs.cloud.oracle.com/en-us/iaas/data-science/using/data-science.htm\">Data Science Service Documentation</a></li>\n",
    "<li><a href=\"https://docs.cloud.oracle.com/iaas/tools/ads-sdk/latest/index.html\">ADS documentation</a></li>\n",
    "</ul>\n",
    "</details>\n",
    "<details>\n",
    "<summary><font size=\"2\">Typical Cell Imports and Settings for ADS</font></summary>\n",
    "\n",
    "```python\n",
    "%load_ext autoreload\n",
    "%autoreload 2\n",
    "%matplotlib inline\n",
    "\n",
    "import warnings\n",
    "warnings.filterwarnings('ignore')\n",
    "\n",
    "import logging\n",
    "logging.basicConfig(format='%(levelname)s:%(message)s', level=logging.ERROR)\n",
    "\n",
    "import ads\n",
    "from ads.dataset.factory import DatasetFactory\n",
    "from ads.automl.provider import OracleAutoMLProvider\n",
    "from ads.automl.driver import AutoML\n",
    "from ads.evaluations.evaluator import ADSEvaluator\n",
    "from ads.common.data import ADSData\n",
    "from ads.explanations.explainer import ADSExplainer\n",
    "from ads.explanations.mlx_global_explainer import MLXGlobalExplainer\n",
    "from ads.explanations.mlx_local_explainer import MLXLocalExplainer\n",
    "from ads.catalog.model import ModelCatalog\n",
    "from ads.common.model_artifact import ModelArtifact\n",
    "```\n",
    "</details>\n",
    "<details>\n",
    "<summary><font size=\"2\">Useful Environment Variables</font></summary>\n",
    "\n",
    "```python\n",
    "import os\n",
    "print(os.environ[\"NB_SESSION_COMPARTMENT_OCID\"])\n",
    "print(os.environ[\"PROJECT_OCID\"])\n",
    "print(os.environ[\"USER_OCID\"])\n",
    "print(os.environ[\"TENANCY_OCID\"])\n",
    "print(os.environ[\"NB_REGION\"])\n",
    "```\n",
    "</details>"
   ]
  },
  {
   "cell_type": "code",
   "execution_count": 16,
   "id": "07963b6f-b39c-4c04-91ca-22f545119366",
   "metadata": {
    "tags": []
   },
   "outputs": [],
   "source": [
    "import os\n",
    "\n",
    "from langchain.agents import AgentExecutor, create_tool_calling_agent\n",
    "\n",
    "from langchain.tools import BaseTool, StructuredTool, tool\n",
    "from langchain_core.prompts import ChatPromptTemplate, MessagesPlaceholder\n",
    "\n",
    "#from langchain_community.llms.oci_generative_ai import OCIGenAI\n",
    "from langchain_community.chat_models.oci_generative_ai import ChatOCIGenAI\n",
    "from langchain_core.messages import AIMessage, HumanMessage, SystemMessage, ToolMessage\n",
    "\n",
    "from langchain.tools import BaseTool, StructuredTool, Tool, tool\n",
    "import re\n",
    "\n",
    "from langchain_core.prompts import ChatPromptTemplate\n",
    "from langchain.prompts import MessagesPlaceholder #ChatPromptTemplate\n",
    "\n",
    "import pandas as pd"
   ]
  },
  {
   "cell_type": "code",
   "execution_count": 17,
   "id": "bd188494-dbe1-4a74-8a28-5aef2e929681",
   "metadata": {
    "tags": []
   },
   "outputs": [],
   "source": [
    "compartment_id = os.environ[\"NB_SESSION_COMPARTMENT_OCID\"]"
   ]
  },
  {
   "cell_type": "markdown",
   "id": "8c7d858d-fc6a-4d25-b375-a92856025175",
   "metadata": {},
   "source": [
    "## ChatOCIGenAI"
   ]
  },
  {
   "cell_type": "code",
   "execution_count": 14,
   "id": "a414be20-c474-4b61-a26a-2acca9c3be01",
   "metadata": {
    "tags": []
   },
   "outputs": [],
   "source": [
    "#Ref: https://python.langchain.com/v0.2/docs/integrations/chat/oci_generative_ai/\n",
    "command_r_plus = \"ocid1.generativeaimodel.oc1.us-chicago-1.amaaaaaask7dceya7ozidbukxwtun4ocm4ngco2jukoaht5mygpgr6gq2lgq\"\n",
    "command_r_plus_tag = \"cohere.command-r-plus\"\n",
    "command_r_plus_tag2 =\"cohere.command-r-plus v1.2\""
   ]
  },
  {
   "cell_type": "code",
   "execution_count": 18,
   "id": "6716f52b-37a4-478a-9c3f-2322b4d59075",
   "metadata": {
    "tags": []
   },
   "outputs": [],
   "source": [
    "chat = ChatOCIGenAI(\n",
    "    model_id=command_r_plus,#\"cohere.command-r-plus\",\n",
    "    provider=\"cohere\",\n",
    "    service_endpoint=\"https://inference.generativeai.us-chicago-1.oci.oraclecloud.com\",\n",
    "    compartment_id=compartment_id,\n",
    "    model_kwargs={\"temperature\": 0.7, \"max_tokens\": 500},\n",
    ")"
   ]
  },
  {
   "cell_type": "code",
   "execution_count": 119,
   "id": "d6134f2a-39f6-4c4d-ac83-2f702612ce1e",
   "metadata": {
    "tags": []
   },
   "outputs": [
    {
     "name": "stdout",
     "output_type": "stream",
     "text": [
      "Bahia 2 x 2 Sport\n"
     ]
    }
   ],
   "source": [
    "df = pd.read_csv('Tabela_Futebol_Agents.csv')\n",
    "    \n",
    "time = 'Sport'\n",
    "lista_time_A = df['Time_A'].unique()\n",
    "lista_time_B = df['Time_B'].unique()\n",
    "\n",
    "if time in lista_time_A:\n",
    "    time_A = time\n",
    "    time_B = df.loc[df['Time_A'] == time, 'Time_B'].iloc[0]\n",
    "    gol_A = df.loc[df['Time_A'] == time, 'Gol_TimeA'].iloc[0]\n",
    "    gol_B = df.loc[df['Time_A'] == time, 'Gol_TimeB'].iloc[0]\n",
    "\n",
    "    result = f\"{time_A} {gol_A} x {gol_B} {time_B}\"\n",
    "\n",
    "elif time in lista_time_B:\n",
    "    time_B = time\n",
    "    time_A = df.loc[df['Time_B'] == time, 'Time_A'].iloc[0]\n",
    "    gol_A = df.loc[df['Time_B'] == time, 'Gol_TimeA'].iloc[0]\n",
    "    gol_B = df.loc[df['Time_B'] == time, 'Gol_TimeB'].iloc[0]\n",
    "\n",
    "    result = f\"{time_A} {gol_A} x {gol_B} {time_B}\"\n",
    "    \n",
    "print(result)\n"
   ]
  },
  {
   "cell_type": "code",
   "execution_count": 120,
   "id": "aadda7f9-7aae-49c7-86ff-f1d47b093e1b",
   "metadata": {
    "tags": []
   },
   "outputs": [],
   "source": [
    "# Contexto global para armazenar o resultado\n",
    "context = {\"last_result\": None}\n",
    "\n",
    "def checa_rodada(inputs: int) -> str:\n",
    "    \"\"\"Checa os resultados a partir do número da rodada representada por um número inteiro\"\"\"\n",
    "  \n",
    "    df = pd.read_csv('Tabela_Futebol_Agents.csv')\n",
    "    \n",
    "    rodada = df[df['Rodada'] == int(inputs)]\n",
    "    \n",
    "    time_A = rodada['Time_A'].astype(str)\n",
    "    time_B = rodada['Time_B'].astype(str)\n",
    "    \n",
    "    gol_A = rodada['Gol_TimeA'].astype(str)\n",
    "    gol_B = rodada['Gol_TimeB'].astype(str)\n",
    "    \n",
    "    result = f\"{time_A.iloc[0]} {gol_A.iloc[0]} x {gol_B.iloc[0]} {time_B.iloc[0]}\"\n",
    "    \n",
    "    return result\n",
    "\n",
    "def checa_times(inputs: str) -> str:\n",
    "    \"\"\"Checa os resultados a partir de 1 dos times que jogaram. Os nomes sempre começam com letra maiúscula.\n",
    "    Alguns exemplos de nomes de times: Vasco, São Paulo, Corinthians, Sport.\n",
    "    \"\"\"\n",
    "    \n",
    "    df = pd.read_csv('Tabela_Futebol_Agents.csv')\n",
    "    \n",
    "    time = inputs\n",
    "    lista_time_A = df['Time_A'].unique()\n",
    "    lista_time_B = df['Time_B'].unique()\n",
    "\n",
    "    if time in lista_time_A:\n",
    "        time_A = time\n",
    "        time_B = df.loc[df['Time_A'] == time, 'Time_B'].iloc[0]\n",
    "        gol_A = df.loc[df['Time_A'] == time, 'Gol_TimeA'].iloc[0]\n",
    "        gol_B = df.loc[df['Time_A'] == time, 'Gol_TimeB'].iloc[0]\n",
    "\n",
    "        result = f\"{time_A} {gol_A} x {gol_B} {time_B}\"\n",
    "\n",
    "    elif time in lista_time_B:\n",
    "        time_B = time\n",
    "        time_A = df.loc[df['Time_B'] == time, 'Time_A'].iloc[0]\n",
    "        gol_A = df.loc[df['Time_B'] == time, 'Gol_TimeA'].iloc[0]\n",
    "        gol_B = df.loc[df['Time_B'] == time, 'Gol_TimeB'].iloc[0]\n",
    "\n",
    "        result = f\"{time_A} {gol_A} x {gol_B} {time_B}\"\n",
    "\n",
    "    return result\n"
   ]
  },
  {
   "cell_type": "code",
   "execution_count": 121,
   "id": "b831e4c6-0236-4c79-8291-3a6c4dbf877a",
   "metadata": {
    "tags": []
   },
   "outputs": [],
   "source": [
    "# Definindo as ferramentas\n",
    "description_rodada = ''' \n",
    "A partir do número da rodada, checa os resultados dos dois times que disputaram esta rodada.\n",
    "'''\n",
    "description_team = ''' \n",
    "A partir do nome de um time, checa os resultados da rodada que este time participou.\n",
    "'''\n",
    "\n",
    "round_tool = Tool.from_function(checa_rodada, name=\"checa_rodada\", description=description_rodada)\n",
    "team_tool = Tool.from_function(checa_times, name=\"checa_time\", description=description_team)\n",
    "\n",
    "tools_list = [round_tool, team_tool]"
   ]
  },
  {
   "cell_type": "code",
   "execution_count": 122,
   "id": "116e0665-0149-494c-ad10-3e488cc3609c",
   "metadata": {},
   "outputs": [],
   "source": [
    "# llm with tools\n",
    "llm_with_tools = chat.bind_tools(tools_list)"
   ]
  },
  {
   "cell_type": "code",
   "execution_count": 129,
   "id": "8da28ee8-7f5e-413d-82f7-9a3d1c52d6d2",
   "metadata": {
    "tags": []
   },
   "outputs": [
    {
     "name": "stdout",
     "output_type": "stream",
     "text": [
      "\n",
      "\n",
      "\u001b[1m> Entering new AgentExecutor chain...\u001b[0m\n",
      "\u001b[32;1m\u001b[1;3m\n",
      "Invoking: `checa_time` with `{'tool_input': 'Vasco'}`\n",
      "responded: Vou procurar pelo último jogo do Vasco.Vou procurar pelo último jogo do Vasco.Vou procurar pelo último jogo do Vasco.\n",
      "\n",
      "\u001b[0m\u001b[33;1m\u001b[1;3mVasco 0 x 2 Flamengo\u001b[0m\u001b[32;1m\u001b[1;3mO Vasco perdeu de 2x0 para o Flamengo.\u001b[0m\n",
      "\n",
      "\u001b[1m> Finished chain.\u001b[0m\n"
     ]
    }
   ],
   "source": [
    "# Prompt para criar o Agente de Chamadas de Ferramentas\n",
    "prompt = ChatPromptTemplate.from_messages(\n",
    "    [\n",
    "        (\"system\", \"Você é um assistente digital que responde perguntas sobre resultados de jogos de futebol\"),\n",
    "        (\"placeholder\", \"{chat_history}\"),\n",
    "        (\"human\", \"{input}\"),\n",
    "        (\"placeholder\", \"{agent_scratchpad}\"),\n",
    "    ]\n",
    ")\n",
    "\n",
    "# Construção do Agente de Chamadas de Ferramentas com as ferramentas personalizadas\n",
    "agent = create_tool_calling_agent(llm_with_tools, tools_list, prompt)\n",
    "\n",
    "# Criação do executor do agente passando o agente e as ferramentas\n",
    "agent_executor = AgentExecutor(agent=agent, tools=tools_list, verbose=True, max_iterations=100)#, early_stopping_method=\"force\")\n",
    "\n",
    "# Executando o Agente com uma pergunta relacionada a operações matemáticas\n",
    "query = \"Qual o resultado do jogo do Vasco?\"\n",
    "result = agent_executor.invoke({\"input\": query})"
   ]
  },
  {
   "cell_type": "code",
   "execution_count": 131,
   "id": "7b6e363b-9406-4f6f-b5ab-5ff78e632959",
   "metadata": {
    "tags": []
   },
   "outputs": [
    {
     "name": "stdout",
     "output_type": "stream",
     "text": [
      "O Vasco perdeu de 2x0 para o Flamengo.\n"
     ]
    }
   ],
   "source": [
    "print(result['output'])"
   ]
  },
  {
   "cell_type": "code",
   "execution_count": null,
   "id": "d81af5e7-59c8-46d3-a54a-c1cac021e0d2",
   "metadata": {},
   "outputs": [],
   "source": []
  }
 ],
 "metadata": {
  "kernelspec": {
   "display_name": "Python [conda env:pytorch21_p39_gpu_v1]",
   "language": "python",
   "name": "conda-env-pytorch21_p39_gpu_v1-py"
  },
  "language_info": {
   "codemirror_mode": {
    "name": "ipython",
    "version": 3
   },
   "file_extension": ".py",
   "mimetype": "text/x-python",
   "name": "python",
   "nbconvert_exporter": "python",
   "pygments_lexer": "ipython3",
   "version": "3.9.16"
  }
 },
 "nbformat": 4,
 "nbformat_minor": 5
}
